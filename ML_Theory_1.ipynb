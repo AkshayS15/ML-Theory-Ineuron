{
  "nbformat": 4,
  "nbformat_minor": 0,
  "metadata": {
    "colab": {
      "provenance": []
    },
    "kernelspec": {
      "name": "python3",
      "display_name": "Python 3"
    },
    "language_info": {
      "name": "python"
    }
  },
  "cells": [
    {
      "cell_type": "markdown",
      "source": [
        "**1. What does one mean by the term \"machine learning\"?**  \n",
        "ANS - Machine Learning is the branch of Artificial intelligence that allows software application to become more accurate at predicting outcomes without being explicitily programmed to do so. Machine learning algorithms use historical data as input to predict new output values. "
      ],
      "metadata": {
        "id": "gje9RbgjDBuv"
      }
    },
    {
      "cell_type": "markdown",
      "source": [
        "**2.Can you think of 4 distinct types of issues where it shines?**  \n",
        "ANS - Machine learning algorithms have had good results on problems such has spam detection in email, cancer diagnosis, fraudulent credit card transactions, and automatically driving vehicles."
      ],
      "metadata": {
        "id": "ggHOKteODByL"
      }
    },
    {
      "cell_type": "markdown",
      "source": [
        "**3.What is a labeled training set, and how does it work?**  \n",
        "ANS - A labeled training set is a collection of data where one of the features of the data indicates the class the training example belongs to. A labeled training set is used in supervised learning algorithms."
      ],
      "metadata": {
        "id": "xenr-rBmDB9F"
      }
    },
    {
      "cell_type": "markdown",
      "source": [
        "**4.What are the two most important tasks that are supervised?**  \n",
        "ANS - The two most important tasks that are supervised are regression and classification. In regression problem the main is the prediction of scalar value whereas in classification we try to find out the output in binary form as 1 or 0."
      ],
      "metadata": {
        "id": "Ef1D4A0WDB_q"
      }
    },
    {
      "cell_type": "markdown",
      "source": [
        "**5.Can you think of four examples of unsupervised tasks?**  \n",
        "ANS - Common unsupervised tasks include **clustering, visualization, dimensionality reduction** and **association rule learning.**"
      ],
      "metadata": {
        "id": "aCEXclynDCCf"
      }
    },
    {
      "cell_type": "markdown",
      "source": [
        "**6.State the machine learning model that would be best to make a robot walk through various unfamiliar terrains?**  \n",
        "ANS - The best Machine Learning algorithm to allow a Robot to walk in unfamiliar terrains is Reinforced Learning, where the robot can learn from response of the terrain to optimize itself."
      ],
      "metadata": {
        "id": "HgXCSm8eDCFK"
      }
    },
    {
      "cell_type": "markdown",
      "source": [
        "**7.Which algorithm will you use to divide your customers into different groups?**  \n",
        "ANS - I would use some sort of clustering algorithm that can find the decision boundaries in the groups automatically. This is an unsupervised approach. However, if I already knew the categories of my customers, then I would choose a supervised approach and go with a classification algorithm."
      ],
      "metadata": {
        "id": "_8x5VFT_DCHu"
      }
    },
    {
      "cell_type": "markdown",
      "source": [
        "**8.Will you consider the problem of spam detection to be a supervised or unsupervised learning problem?**  \n",
        "ANS - Spam detection is a Supervised Machine Learning problem because the labels are known (spam or no spam)"
      ],
      "metadata": {
        "id": "-4--ZSBZDCKp"
      }
    },
    {
      "cell_type": "markdown",
      "source": [
        "**9.What is the concept of an online learning system?**  \n",
        "ANS - Online learning system is a learning system in which the machine learns continously, as data is given in small streams continuously.\n"
      ],
      "metadata": {
        "id": "XCV4YyTCDCNJ"
      }
    },
    {
      "cell_type": "markdown",
      "source": [
        "**10.What is out-of-core learning, and how does it differ from core learning?**  \n",
        "ANS - Out-of-core learning is used when a dataset is too large to fit into a computer's memory. The algorithm loads part of the data, runs a training step, then repeats the process until it has run on all the data."
      ],
      "metadata": {
        "id": "MamlNtxrDCQs"
      }
    },
    {
      "cell_type": "markdown",
      "source": [
        "**11.What kind of learning algorithm makes predictions using a similarity measure?**  \n",
        "ANS - Learning algorithm that relies on a similarity measure to make predictions is Instance Based Algorithm."
      ],
      "metadata": {
        "id": "N1lUYKoQM6Do"
      }
    },
    {
      "cell_type": "markdown",
      "source": [
        "**12.What's the difference between a model parameter and a hyperparameter in a learning algorithm?**  \n",
        "ANS - Model parameter determines how a model will predict given a new instance. Model usually has more than one parameter (i.e. slope of a linear model). Hyperparameter is a parameter for the learning algorithm, not of a model."
      ],
      "metadata": {
        "id": "-CpQP92sM7mv"
      }
    },
    {
      "cell_type": "markdown",
      "source": [
        "**13.What are the criteria that model-based learning algorithms look for? What is the most popular method they use to achieve success? What method do they use to make predictions?**  \n",
        "ANS - Model based learning algorithm search for the optimal value of parameters in a model that will give the best results for the new instances. We often use a cost function or similar to determine what the parameter value has to be in order to minimize the function. The model makes prediction by using the value of the new instance and the parameters in its function."
      ],
      "metadata": {
        "id": "siFEmJipM7ao"
      }
    },
    {
      "cell_type": "markdown",
      "source": [
        "**14.Can you name four of the most important Machine Learning challenges?**  \n",
        "ANS - Four main challenges in Machine Learning include the following:\n",
        "\n",
        "1. Overfitting the Data (using a model too complicated)\n",
        "2. Underfitting the data (using a simple model)\n",
        "3. Lacking in Data\n",
        "4. Non Representative Data."
      ],
      "metadata": {
        "id": "x57S_GU7M7QM"
      }
    },
    {
      "cell_type": "markdown",
      "source": [
        "**15.What happens if the model performs well on the training data but fails to generalize the results to new situations? Can you think of three different options?**  \n",
        "ANS -  If the model performs poorly to new instances, then it has overfitted on the training data. To solve this, we can do any of the following three:\n",
        "\n",
        "- Get more data\n",
        "- Implement a simpler model\n",
        "- Eliminate outliers or noise from the existing data set."
      ],
      "metadata": {
        "id": "TMB6f_aDM670"
      }
    },
    {
      "cell_type": "markdown",
      "source": [
        "**16.What exactly is a test set, and why would you need one?**  \n",
        "ANS - Test set is a set of data to test your model (fit using training data) to see how it performs.Test data set is necessary to determine how good (or bad) a model performs."
      ],
      "metadata": {
        "id": "w9MdHmIyM6sk"
      }
    },
    {
      "cell_type": "markdown",
      "source": [
        "**17.What is a validation set's purpose?**  \n",
        "ANS - Validation set is a set used to compare between different training models."
      ],
      "metadata": {
        "id": "cdmpqr3GM6nS"
      }
    },
    {
      "cell_type": "markdown",
      "source": [
        "**18.What precisely is the train-dev kit, when will you need it, how do you put it to use?**  \n",
        "ANS - Cross-validation is a tool to compare models without needing a separate validation set. It is preferred over validation set because we can save from breaking of part of the training set to create a validation set, as having more data is valuable regardless."
      ],
      "metadata": {
        "id": "I9RyvcTvQlXh"
      }
    },
    {
      "cell_type": "markdown",
      "source": [
        "**19.What could go wrong if you use the test set to tune hyperparameters?**  \n",
        "ANS - If you tune hyperparameters using the test sets, then it may not perform well on the out-of-sample data because the model is tuned just for that specific set\n"
      ],
      "metadata": {
        "id": "EqkME3XjQl1p"
      }
    }
  ]
}